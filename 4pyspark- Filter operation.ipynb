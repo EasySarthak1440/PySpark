{
 "cells": [
  {
   "cell_type": "markdown",
   "id": "f6321694",
   "metadata": {},
   "source": [
    "# PySpark Dataframes\n",
    "1) filter Operation\n",
    "2) &,|,==\n",
    "3) ~"
   ]
  },
  {
   "cell_type": "code",
   "execution_count": 59,
   "id": "5216b5c0",
   "metadata": {},
   "outputs": [],
   "source": [
    "from pyspark.sql import SparkSession"
   ]
  },
  {
   "cell_type": "code",
   "execution_count": 60,
   "id": "321f8d02",
   "metadata": {},
   "outputs": [],
   "source": [
    "spark=SparkSession.builder.appName('dataframe').getOrCreate()"
   ]
  },
  {
   "cell_type": "code",
   "execution_count": 61,
   "id": "56ef6952",
   "metadata": {},
   "outputs": [
    {
     "name": "stdout",
     "output_type": "stream",
     "text": [
      "+-------+----+----------+-------+\n",
      "|   Name| Age|Experience| Salary|\n",
      "+-------+----+----------+-------+\n",
      "|Sarthak|  21|         0|      0|\n",
      "|  Lalit|  22|         1| 800000|\n",
      "|   Amit|  21|         2|1000000|\n",
      "|Ajinkya|  23|         3| 600000|\n",
      "| Deepak|  20|         1| 400000|\n",
      "| Mahesh|NULL|      NULL| 300000|\n",
      "|   NULL|  19|         0|      0|\n",
      "|   NULL|  21|      NULL|   NULL|\n",
      "+-------+----+----------+-------+\n",
      "\n"
     ]
    }
   ],
   "source": [
    "df_pyspark=spark.read.csv('test2.csv',header=True,inferSchema=True)\n",
    "df_pyspark.show()"
   ]
  },
  {
   "cell_type": "code",
   "execution_count": 62,
   "id": "c0159709",
   "metadata": {},
   "outputs": [],
   "source": [
    "from pyspark.ml.feature import Imputer\n",
    "\n",
    "imputer=Imputer(\n",
    "    inputCols=['Age','Experience','Salary'],\n",
    "    outputCols=[\"{}_imputed\".format(c) for c in ['Age',\"Experience\",\"Salary\"]]\n",
    "    ).setStrategy(\"mean\")"
   ]
  },
  {
   "cell_type": "code",
   "execution_count": 63,
   "id": "c5ebf17d",
   "metadata": {},
   "outputs": [
    {
     "name": "stdout",
     "output_type": "stream",
     "text": [
      "+-------+----+----------+-------+-----------+------------------+--------------+\n",
      "|   Name| Age|Experience| Salary|Age_imputed|Experience_imputed|Salary_imputed|\n",
      "+-------+----+----------+-------+-----------+------------------+--------------+\n",
      "|Sarthak|  21|         0|      0|         21|                 0|             0|\n",
      "|  Lalit|  22|         1| 800000|         22|                 1|        800000|\n",
      "|   Amit|  21|         2|1000000|         21|                 2|       1000000|\n",
      "|Ajinkya|  23|         3| 600000|         23|                 3|        600000|\n",
      "| Deepak|  20|         1| 400000|         20|                 1|        400000|\n",
      "| Mahesh|NULL|      NULL| 300000|         21|                 1|        300000|\n",
      "|   NULL|  19|         0|      0|         19|                 0|             0|\n",
      "|   NULL|  21|      NULL|   NULL|         21|                 1|        442857|\n",
      "+-------+----+----------+-------+-----------+------------------+--------------+\n",
      "\n"
     ]
    }
   ],
   "source": [
    "imputer.fit(df_pyspark).transform(df_pyspark).show()"
   ]
  },
  {
   "cell_type": "code",
   "execution_count": 64,
   "id": "98391c32",
   "metadata": {},
   "outputs": [
    {
     "name": "stdout",
     "output_type": "stream",
     "text": [
      "+-------+----+----------+-------+\n",
      "|   Name| Age|Experience| Salary|\n",
      "+-------+----+----------+-------+\n",
      "|Sarthak|  21|         0|      0|\n",
      "|  Lalit|  22|         1| 800000|\n",
      "|   Amit|  21|         2|1000000|\n",
      "|Ajinkya|  23|         3| 600000|\n",
      "| Deepak|  20|         1| 400000|\n",
      "| Mahesh|NULL|      NULL| 300000|\n",
      "|   NULL|  19|         0|      0|\n",
      "|   NULL|  21|      NULL|   NULL|\n",
      "+-------+----+----------+-------+\n",
      "\n"
     ]
    }
   ],
   "source": [
    "df_pyspark.show()\n"
   ]
  },
  {
   "cell_type": "code",
   "execution_count": 65,
   "id": "63afe130",
   "metadata": {},
   "outputs": [
    {
     "name": "stdout",
     "output_type": "stream",
     "text": [
      "+-------+---+----------+-------+\n",
      "|   Name|Age|Experience| Salary|\n",
      "+-------+---+----------+-------+\n",
      "|Sarthak| 21|         0|      0|\n",
      "|  Lalit| 22|         1| 800000|\n",
      "|   Amit| 21|         2|1000000|\n",
      "|Ajinkya| 23|         3| 600000|\n",
      "| Deepak| 20|         1| 400000|\n",
      "| Mahesh| 21|         1| 300000|\n",
      "|   NULL| 19|         0|      0|\n",
      "|   NULL| 21|         1| 442857|\n",
      "+-------+---+----------+-------+\n",
      "\n"
     ]
    }
   ],
   "source": [
    "from pyspark.ml.feature import Imputer\n",
    "\n",
    "# Define Imputer\n",
    "imputer = Imputer(\n",
    "    inputCols=['Age', 'Experience', 'Salary'],\n",
    "    outputCols=['Age', 'Experience', 'Salary']\n",
    ").setStrategy(\"mean\")\n",
    "\n",
    "# Fit and transform the DataFrame\n",
    "df_pyspark = imputer.fit(df_pyspark).transform(df_pyspark)\n",
    "\n",
    "# Show the updated DataFrame\n",
    "df_pyspark.show()\n"
   ]
  },
  {
   "cell_type": "code",
   "execution_count": 69,
   "id": "35881346",
   "metadata": {},
   "outputs": [
    {
     "name": "stdout",
     "output_type": "stream",
     "text": [
      "+-------+----+----------+----------+\n",
      "|   Name| Age|Experience|    Salary|\n",
      "+-------+----+----------+----------+\n",
      "|Sarthak|21.0|     1.125|442857.125|\n",
      "|  Lalit|22.0|       1.0|  800000.0|\n",
      "|   Amit|21.0|       2.0| 1000000.0|\n",
      "|Ajinkya|23.0|       3.0|  600000.0|\n",
      "| Deepak|20.0|       1.0|  400000.0|\n",
      "| Mahesh|21.0|       1.0|  300000.0|\n",
      "|   NULL|19.0|     1.125|442857.125|\n",
      "|   NULL|21.0|       1.0|  442857.0|\n",
      "+-------+----+----------+----------+\n",
      "\n"
     ]
    }
   ],
   "source": [
    "from pyspark.ml.feature import Imputer\n",
    "from pyspark.sql.functions import mean as spark_mean, when, col\n",
    "\n",
    "# Calculate the mean values for 'Age', 'Experience', and 'salary' columns\n",
    "mean_values = df_pyspark.select([spark_mean(col(col_name)).alias(col_name) for col_name in ['Age', 'Experience', 'Salary']]).collect()[0]\n",
    "\n",
    "# Extract the mean values\n",
    "age_mean = mean_values['Age']\n",
    "exp_mean = mean_values['Experience']\n",
    "salary_mean = mean_values['Salary']\n",
    "\n",
    "# Replace 0 values with the mean of each column\n",
    "df_pyspark = df_pyspark.withColumn('Age', when(df_pyspark['Age'] == 0, age_mean).otherwise(df_pyspark['Age']))\n",
    "df_pyspark = df_pyspark.withColumn('Experience', when(df_pyspark['Experience'] == 0, exp_mean).otherwise(df_pyspark['Experience']))\n",
    "df_pyspark = df_pyspark.withColumn('Salary', when(df_pyspark['Salary'] == 0, salary_mean).otherwise(df_pyspark['Salary']))\n",
    "\n",
    "# Show the updated DataFrame\n",
    "df_pyspark.show()\n"
   ]
  },
  {
   "cell_type": "code",
   "execution_count": 70,
   "id": "2c85f92b",
   "metadata": {},
   "outputs": [
    {
     "name": "stdout",
     "output_type": "stream",
     "text": [
      "+------+----+----------+--------+\n",
      "|  Name| Age|Experience|  Salary|\n",
      "+------+----+----------+--------+\n",
      "|Deepak|20.0|       1.0|400000.0|\n",
      "|Mahesh|21.0|       1.0|300000.0|\n",
      "+------+----+----------+--------+\n",
      "\n"
     ]
    }
   ],
   "source": [
    "df_pyspark.filter(\"Salary<=400000\").show()"
   ]
  },
  {
   "cell_type": "code",
   "execution_count": 71,
   "id": "66f7848e",
   "metadata": {},
   "outputs": [
    {
     "name": "stdout",
     "output_type": "stream",
     "text": [
      "+----------+----+----------+----------+\n",
      "|      Name| Age|Experience|    Salary|\n",
      "+----------+----+----------+----------+\n",
      "|   Sarthak|21.0|     1.125|442857.125|\n",
      "|     Lalit|22.0|       1.0|  800000.0|\n",
      "|      Amit|21.0|       2.0| 1000000.0|\n",
      "|   Ajinkya|23.0|       3.0|  600000.0|\n",
      "|    Deepak|20.0|       1.0|  400000.0|\n",
      "|    Mahesh|21.0|       1.0|  300000.0|\n",
      "|   Saurabh|19.0|     1.125|442857.125|\n",
      "|Prathamesh|21.0|       1.0|  442857.0|\n",
      "+----------+----+----------+----------+\n",
      "\n"
     ]
    }
   ],
   "source": [
    "from pyspark.sql.functions import when\n",
    "\n",
    "# Replace NULL values in 'Name' column based on conditions\n",
    "df_pyspark = df_pyspark.withColumn('Name', \n",
    "                                    when((df_pyspark['Age'] == 19) & (df_pyspark['Name'].isNull()), 'Saurabh')\n",
    "                                    .when((df_pyspark['Age'] == 21) & (df_pyspark['Name'].isNull()), 'Prathamesh')\n",
    "                                    .otherwise(df_pyspark['Name']))\n",
    "\n",
    "# Show the updated DataFrame\n",
    "df_pyspark.show()\n"
   ]
  },
  {
   "cell_type": "code",
   "execution_count": 72,
   "id": "3578cefd",
   "metadata": {},
   "outputs": [
    {
     "name": "stdout",
     "output_type": "stream",
     "text": [
      "+------+----+\n",
      "|  Name| Age|\n",
      "+------+----+\n",
      "|Deepak|20.0|\n",
      "|Mahesh|21.0|\n",
      "+------+----+\n",
      "\n"
     ]
    }
   ],
   "source": [
    "df_pyspark.filter(\"Salary<=400000\").select(['Name','Age']).show()"
   ]
  },
  {
   "cell_type": "code",
   "execution_count": 73,
   "id": "582e6bfa",
   "metadata": {},
   "outputs": [
    {
     "name": "stdout",
     "output_type": "stream",
     "text": [
      "+----------+----+----------+----------+\n",
      "|      Name| Age|Experience|    Salary|\n",
      "+----------+----+----------+----------+\n",
      "|   Sarthak|21.0|     1.125|442857.125|\n",
      "|    Deepak|20.0|       1.0|  400000.0|\n",
      "|    Mahesh|21.0|       1.0|  300000.0|\n",
      "|   Saurabh|19.0|     1.125|442857.125|\n",
      "|Prathamesh|21.0|       1.0|  442857.0|\n",
      "+----------+----+----------+----------+\n",
      "\n"
     ]
    }
   ],
   "source": [
    "df_pyspark.filter((df_pyspark['Salary']<=500000) & (df_pyspark['Salary']>=300000)).show()"
   ]
  },
  {
   "cell_type": "code",
   "execution_count": 74,
   "id": "f785e931",
   "metadata": {},
   "outputs": [
    {
     "name": "stdout",
     "output_type": "stream",
     "text": [
      "+----------+----+----------+----------+\n",
      "|      Name| Age|Experience|    Salary|\n",
      "+----------+----+----------+----------+\n",
      "|   Sarthak|21.0|     1.125|442857.125|\n",
      "|     Lalit|22.0|       1.0|  800000.0|\n",
      "|      Amit|21.0|       2.0| 1000000.0|\n",
      "|   Ajinkya|23.0|       3.0|  600000.0|\n",
      "|   Saurabh|19.0|     1.125|442857.125|\n",
      "|Prathamesh|21.0|       1.0|  442857.0|\n",
      "+----------+----+----------+----------+\n",
      "\n"
     ]
    }
   ],
   "source": [
    "df_pyspark.filter(~(df_pyspark[\"Salary\"]<=400000)).show()"
   ]
  },
  {
   "cell_type": "code",
   "execution_count": null,
   "id": "315fa3a1",
   "metadata": {},
   "outputs": [],
   "source": []
  }
 ],
 "metadata": {
  "kernelspec": {
   "display_name": "Python 3 (ipykernel)",
   "language": "python",
   "name": "python3"
  },
  "language_info": {
   "codemirror_mode": {
    "name": "ipython",
    "version": 3
   },
   "file_extension": ".py",
   "mimetype": "text/x-python",
   "name": "python",
   "nbconvert_exporter": "python",
   "pygments_lexer": "ipython3",
   "version": "3.11.4"
  }
 },
 "nbformat": 4,
 "nbformat_minor": 5
}
