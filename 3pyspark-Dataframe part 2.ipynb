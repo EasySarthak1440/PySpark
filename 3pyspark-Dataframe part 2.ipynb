{
 "cells": [
  {
   "cell_type": "markdown",
   "id": "9316eb45",
   "metadata": {},
   "source": [
    "Handling missing values\n",
    "1) Dropping Columns\n",
    "2) Dropping Rows\n",
    "3) Various Parameter in Dropping functionalities\n",
    "4) Handling Missing values by Mean, Median, Mode"
   ]
  },
  {
   "cell_type": "code",
   "execution_count": 76,
   "id": "13ad8412",
   "metadata": {},
   "outputs": [],
   "source": [
    "from pyspark.sql import SparkSession\n",
    "spark=SparkSession.builder.appName('Pracitse').getOrCreate()"
   ]
  },
  {
   "cell_type": "code",
   "execution_count": 77,
   "id": "57ac5672",
   "metadata": {},
   "outputs": [],
   "source": [
    "df_pyspark=spark.read.csv('test2.csv',header=True,inferSchema=True)"
   ]
  },
  {
   "cell_type": "code",
   "execution_count": 78,
   "id": "df7badce",
   "metadata": {},
   "outputs": [
    {
     "name": "stdout",
     "output_type": "stream",
     "text": [
      "+-------+----+----------+-------+\n",
      "|   Name| Age|Experience| salary|\n",
      "+-------+----+----------+-------+\n",
      "|Sarthak|  21|         0|      0|\n",
      "|  Lalit|  22|         1| 800000|\n",
      "|   Amit|  21|         2|1000000|\n",
      "|Ajinkya|  23|         3| 600000|\n",
      "| Deepak|  20|         1| 400000|\n",
      "| Mahesh|NULL|      NULL| 300000|\n",
      "|   NULL|  19|         0|      0|\n",
      "|   NULL|  21|      NULL|   NULL|\n",
      "+-------+----+----------+-------+\n",
      "\n"
     ]
    }
   ],
   "source": [
    "df_pyspark.show()"
   ]
  },
  {
   "cell_type": "code",
   "execution_count": 79,
   "id": "4d45634f",
   "metadata": {},
   "outputs": [
    {
     "name": "stdout",
     "output_type": "stream",
     "text": [
      "+----+----------+-------+\n",
      "| Age|Experience| salary|\n",
      "+----+----------+-------+\n",
      "|  21|         0|      0|\n",
      "|  22|         1| 800000|\n",
      "|  21|         2|1000000|\n",
      "|  23|         3| 600000|\n",
      "|  20|         1| 400000|\n",
      "|NULL|      NULL| 300000|\n",
      "|  19|         0|      0|\n",
      "|  21|      NULL|   NULL|\n",
      "+----+----------+-------+\n",
      "\n"
     ]
    }
   ],
   "source": [
    "df_pyspark.drop('Name').show()"
   ]
  },
  {
   "cell_type": "code",
   "execution_count": 80,
   "id": "7f4b792a",
   "metadata": {},
   "outputs": [
    {
     "name": "stdout",
     "output_type": "stream",
     "text": [
      "+-------+----+----------+-------+\n",
      "|   Name| Age|Experience| salary|\n",
      "+-------+----+----------+-------+\n",
      "|Sarthak|  21|         0|      0|\n",
      "|  Lalit|  22|         1| 800000|\n",
      "|   Amit|  21|         2|1000000|\n",
      "|Ajinkya|  23|         3| 600000|\n",
      "| Deepak|  20|         1| 400000|\n",
      "| Mahesh|NULL|      NULL| 300000|\n",
      "|   NULL|  19|         0|      0|\n",
      "|   NULL|  21|      NULL|   NULL|\n",
      "+-------+----+----------+-------+\n",
      "\n"
     ]
    }
   ],
   "source": [
    "df_pyspark.show()"
   ]
  },
  {
   "cell_type": "code",
   "execution_count": 81,
   "id": "935c6320",
   "metadata": {},
   "outputs": [
    {
     "name": "stdout",
     "output_type": "stream",
     "text": [
      "+-------+---+----------+-------+\n",
      "|   Name|Age|Experience| salary|\n",
      "+-------+---+----------+-------+\n",
      "|Sarthak| 21|         0|      0|\n",
      "|  Lalit| 22|         1| 800000|\n",
      "|   Amit| 21|         2|1000000|\n",
      "|Ajinkya| 23|         3| 600000|\n",
      "| Deepak| 20|         1| 400000|\n",
      "+-------+---+----------+-------+\n",
      "\n"
     ]
    }
   ],
   "source": [
    "df_pyspark.na.drop().show()"
   ]
  },
  {
   "cell_type": "code",
   "execution_count": 82,
   "id": "7b41c55a",
   "metadata": {},
   "outputs": [
    {
     "name": "stdout",
     "output_type": "stream",
     "text": [
      "+-------+---+----------+-------+\n",
      "|   Name|Age|Experience| salary|\n",
      "+-------+---+----------+-------+\n",
      "|Sarthak| 21|         0|      0|\n",
      "|  Lalit| 22|         1| 800000|\n",
      "|   Amit| 21|         2|1000000|\n",
      "|Ajinkya| 23|         3| 600000|\n",
      "| Deepak| 20|         1| 400000|\n",
      "+-------+---+----------+-------+\n",
      "\n"
     ]
    }
   ],
   "source": [
    "### any==how\n",
    "df_pyspark.na.drop(how=\"any\").show()"
   ]
  },
  {
   "cell_type": "code",
   "execution_count": 83,
   "id": "57fb87f5",
   "metadata": {},
   "outputs": [
    {
     "name": "stdout",
     "output_type": "stream",
     "text": [
      "+-------+----+----------+-------+\n",
      "|   Name| Age|Experience| salary|\n",
      "+-------+----+----------+-------+\n",
      "|Sarthak|  21|         0|      0|\n",
      "|  Lalit|  22|         1| 800000|\n",
      "|   Amit|  21|         2|1000000|\n",
      "|Ajinkya|  23|         3| 600000|\n",
      "| Deepak|  20|         1| 400000|\n",
      "| Mahesh|NULL|      NULL| 300000|\n",
      "|   NULL|  19|         0|      0|\n",
      "+-------+----+----------+-------+\n",
      "\n"
     ]
    }
   ],
   "source": [
    "### threshold\n",
    "df_pyspark.na.drop(how=\"any\",thresh=2).show()"
   ]
  },
  {
   "cell_type": "code",
   "execution_count": 84,
   "id": "323b8cad",
   "metadata": {},
   "outputs": [
    {
     "name": "stdout",
     "output_type": "stream",
     "text": [
      "+-------+---+----------+-------+\n",
      "|   Name|Age|Experience| salary|\n",
      "+-------+---+----------+-------+\n",
      "|Sarthak| 21|         0|      0|\n",
      "|  Lalit| 22|         1| 800000|\n",
      "|   Amit| 21|         2|1000000|\n",
      "|Ajinkya| 23|         3| 600000|\n",
      "| Deepak| 20|         1| 400000|\n",
      "|   NULL| 19|         0|      0|\n",
      "|   NULL| 21|      NULL|   NULL|\n",
      "+-------+---+----------+-------+\n",
      "\n"
     ]
    }
   ],
   "source": [
    "### subset\n",
    "df_pyspark.na.drop(how=\"any\",subset=['Age']).show()"
   ]
  },
  {
   "cell_type": "code",
   "execution_count": 85,
   "id": "985899df",
   "metadata": {},
   "outputs": [
    {
     "name": "stdout",
     "output_type": "stream",
     "text": [
      "+-------+----+----------+-------+\n",
      "|   Name| Age|Experience| salary|\n",
      "+-------+----+----------+-------+\n",
      "|Sarthak|  21|         0|      0|\n",
      "|  Lalit|  22|         1| 800000|\n",
      "|   Amit|  21|         2|1000000|\n",
      "|Ajinkya|  23|         3| 600000|\n",
      "| Deepak|  20|         1| 400000|\n",
      "| Mahesh|NULL|      NULL| 300000|\n",
      "|   NULL|  19|         0|      0|\n",
      "|   NULL|  21|      NULL|   NULL|\n",
      "+-------+----+----------+-------+\n",
      "\n"
     ]
    }
   ],
   "source": [
    "df_pyspark.show()"
   ]
  },
  {
   "cell_type": "code",
   "execution_count": 86,
   "id": "36a1854a",
   "metadata": {},
   "outputs": [
    {
     "name": "stdout",
     "output_type": "stream",
     "text": [
      "+-------+----+----------+-------+\n",
      "|   Name| Age|Experience| salary|\n",
      "+-------+----+----------+-------+\n",
      "|Sarthak|  21|         0|      0|\n",
      "|  Lalit|  22|         1| 800000|\n",
      "|   Amit|  21|         2|1000000|\n",
      "|Ajinkya|  23|         3| 600000|\n",
      "| Deepak|  20|         1| 400000|\n",
      "| Mahesh|NULL|      NULL| 300000|\n",
      "|   NULL|  19|         0|      0|\n",
      "|   NULL|  21|      NULL|   NULL|\n",
      "+-------+----+----------+-------+\n",
      "\n"
     ]
    }
   ],
   "source": [
    "# Fill NULL values in string columns with 'Missing Values'\n",
    "df_pyspark.fillna('Missing Values', subset=['Name'])\n",
    "\n",
    "# Fill NULL values in integer columns with 0,we cannot write 'Missing Values'\n",
    "int_columns = [col for col, dtype in df_pyspark.dtypes if dtype == 'int']\n",
    "for col in int_columns:\n",
    "    df_pyspark.fillna(0, subset=[col])\n",
    "\n",
    "df_pyspark.show()\n"
   ]
  },
  {
   "cell_type": "code",
   "execution_count": 87,
   "id": "73c877fb",
   "metadata": {},
   "outputs": [],
   "source": [
    "# df_pyspark = df_pyspark.fillna('Missing Values')\n",
    "# df_pyspark.show()\n",
    "# #it works for string column only"
   ]
  },
  {
   "cell_type": "markdown",
   "id": "f901c4dd",
   "metadata": {},
   "source": [
    "# Replace 0 with NULL"
   ]
  },
  {
   "cell_type": "code",
   "execution_count": 100,
   "id": "ef8ee865",
   "metadata": {},
   "outputs": [
    {
     "name": "stdout",
     "output_type": "stream",
     "text": [
      "+-------+----+----------+-------+\n",
      "|   Name| Age|Experience| salary|\n",
      "+-------+----+----------+-------+\n",
      "|Sarthak|  21|      NULL|   NULL|\n",
      "|  Lalit|  22|         1| 800000|\n",
      "|   Amit|  21|         2|1000000|\n",
      "|Ajinkya|  23|         3| 600000|\n",
      "| Deepak|  20|         1| 400000|\n",
      "| Mahesh|NULL|      NULL| 300000|\n",
      "|   NULL|  19|      NULL|   NULL|\n",
      "|   NULL|  21|      NULL|   NULL|\n",
      "+-------+----+----------+-------+\n",
      "\n"
     ]
    }
   ],
   "source": [
    "# from pyspark.sql.functions import when, col\n",
    "\n",
    "# Assuming df_pyspark is your DataFrame\n",
    "for column in df_pyspark.columns:\n",
    "    df_pyspark = df_pyspark.withColumn(column, when(col(column) == 0, None).otherwise(col(column)))\n",
    "\n",
    "# Show the DataFrame\n",
    "df_pyspark.show()\n"
   ]
  },
  {
   "cell_type": "code",
   "execution_count": 101,
   "id": "51ac47e3",
   "metadata": {},
   "outputs": [],
   "source": [
    "from pyspark.ml.feature import Imputer\n",
    "\n",
    "imputer=Imputer(\n",
    "    inputCols=['Age','Experience','salary'],\n",
    "    outputCols=[\"{}_imputed\".format(c) for c in ['Age',\"Experience\",\"salary\"]]\n",
    "    ).setStrategy(\"mean\")"
   ]
  },
  {
   "cell_type": "code",
   "execution_count": 102,
   "id": "ac3a00a7",
   "metadata": {},
   "outputs": [
    {
     "name": "stdout",
     "output_type": "stream",
     "text": [
      "+-------+----+----------+-------+-----------+------------------+--------------+\n",
      "|   Name| Age|Experience| salary|Age_imputed|Experience_imputed|salary_imputed|\n",
      "+-------+----+----------+-------+-----------+------------------+--------------+\n",
      "|Sarthak|  21|      NULL|   NULL|         21|                 1|        620000|\n",
      "|  Lalit|  22|         1| 800000|         22|                 1|        800000|\n",
      "|   Amit|  21|         2|1000000|         21|                 2|       1000000|\n",
      "|Ajinkya|  23|         3| 600000|         23|                 3|        600000|\n",
      "| Deepak|  20|         1| 400000|         20|                 1|        400000|\n",
      "| Mahesh|NULL|      NULL| 300000|         21|                 1|        300000|\n",
      "|   NULL|  19|      NULL|   NULL|         19|                 1|        620000|\n",
      "|   NULL|  21|      NULL|   NULL|         21|                 1|        620000|\n",
      "+-------+----+----------+-------+-----------+------------------+--------------+\n",
      "\n"
     ]
    }
   ],
   "source": [
    "imputer.fit(df_pyspark).transform(df_pyspark).show()"
   ]
  },
  {
   "cell_type": "code",
   "execution_count": null,
   "id": "a52fcaae",
   "metadata": {},
   "outputs": [],
   "source": []
  }
 ],
 "metadata": {
  "kernelspec": {
   "display_name": "Python 3 (ipykernel)",
   "language": "python",
   "name": "python3"
  },
  "language_info": {
   "codemirror_mode": {
    "name": "ipython",
    "version": 3
   },
   "file_extension": ".py",
   "mimetype": "text/x-python",
   "name": "python",
   "nbconvert_exporter": "python",
   "pygments_lexer": "ipython3",
   "version": "3.11.4"
  }
 },
 "nbformat": 4,
 "nbformat_minor": 5
}
